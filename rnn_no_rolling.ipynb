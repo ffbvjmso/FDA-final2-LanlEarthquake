{
 "cells": [
  {
   "cell_type": "code",
   "execution_count": 1,
   "metadata": {
    "_cell_guid": "b1076dfc-b9ad-4769-8c92-a6c4dae69d19",
    "_uuid": "8f2839f25d086af736a60e9eeb907d3b93b6e0e5"
   },
   "outputs": [
    {
     "name": "stdout",
     "output_type": "stream",
     "text": [
      "['sample_submission.csv', 'test', 'train.csv']\n"
     ]
    }
   ],
   "source": [
    "import numpy as np\n",
    "import pandas as pd\n",
    "import os\n",
    "from tqdm import tqdm\n",
    "\n",
    "import matplotlib.pyplot as plt\n",
    "\n",
    "print(os.listdir(\"../input\"))"
   ]
  },
  {
   "cell_type": "code",
   "execution_count": 2,
   "metadata": {
    "_cell_guid": "79c7e3d0-c299-4dcb-8224-4455121ee9b0",
    "_uuid": "d629ff2d2480ee46fbb7e2d37f6b5fab8052498a"
   },
   "outputs": [],
   "source": [
    "# Fix seeds\n",
    "from numpy.random import seed\n",
    "seed(639)\n",
    "from tensorflow import set_random_seed\n",
    "set_random_seed(5944)\n",
    "\n",
    "#read data\n",
    "float_data = pd.read_csv(\"../input/train.csv\", dtype={\"acoustic_data\": np.float32, \"time_to_failure\": np.float32}).values"
   ]
  },
  {
   "cell_type": "code",
   "execution_count": 4,
   "metadata": {},
   "outputs": [],
   "source": [
    "#create feature\n",
    "def extract_features(z):\n",
    "     return np.c_[z.mean(axis=1), \n",
    "                  np.transpose(np.percentile(np.abs(z), q=[0, 50, 75, 100], axis=1)),\n",
    "                  z.std(axis=1)]\n",
    "def extract_features_roll(z):\n",
    "    \n",
    "    df_z = pd.DataFrame(z)\n",
    "    \n",
    "    df_roll_std_50 = df_z.rolling(50, axis=1).std().values[:, 49:]\n",
    "    df_roll_skew_50 = df_z.rolling(50, axis=1).skew().values[:, 49:]\n",
    "    df_roll_kurt_50 = df_z.rolling(50, axis=1).kurt().values[:, 49:]\n",
    "    df_roll_mean_50 = df_z.rolling(50, axis=1).mean().values[:, 49:]\n",
    "    \n",
    "    df_roll_std_100 = df_z.rolling(100, axis=1).std().values[:, 99:]\n",
    "    df_roll_skew_100 = df_z.rolling(100, axis=1).skew().values[:, 99:]\n",
    "    df_roll_kurt_100 = df_z.rolling(100, axis=1).kurt().values[:, 99:]\n",
    "    df_roll_mean_100 = df_z.rolling(100, axis=1).mean().values[:, 99:]\n",
    "    \n",
    "    return np.c_[#np.quantile(df_roll_std, 0.05, axis=1),\n",
    "                 #np.quantile(df_roll_std, 0.10, axis=1),\n",
    "                 #np.quantile(df_roll_skew, 0.05, axis=1),\n",
    "                 #np.quantile(df_roll_skew, 0.10, axis=1),\n",
    "                 #np.quantile(df_roll_kurt, 0.05, axis=1),\n",
    "                 #np.quantile(df_roll_kurt, 0.10, axis=1),\n",
    "                 np.transpose(np.quantile(df_roll_std_50, q=[0.01, 0.05, 0.10, 0.95, 0.99], axis=1)),\n",
    "                 np.transpose(np.quantile(df_roll_std_100, q=[0.01, 0.05, 0.10, 0.95, 0.99], axis=1)),\n",
    "                 np.transpose(np.quantile(df_roll_skew_50, q=[0.05, 0.10], axis=1)),\n",
    "                 np.transpose(np.quantile(df_roll_skew_100, q=[0.05, 0.10], axis=1)),\n",
    "                 np.transpose(np.quantile(df_roll_kurt_50, q=[0.05, 0.10], axis=1)),\n",
    "                 np.transpose(np.quantile(df_roll_kurt_100, q=[0.05, 0.10], axis=1)),\n",
    "                 np.transpose(np.quantile(df_roll_mean_50, q=[0.05, 0.10, 0.95], axis=1)),\n",
    "                 np.transpose(np.quantile(df_roll_mean_100, q=[0.05, 0.10, 0.95], axis=1)),\n",
    "                ]\n",
    "\n",
    "def create_X(x, last_index=None, n_steps=150, step_length=1000):\n",
    "    if last_index == None:\n",
    "        last_index=len(x)\n",
    "       \n",
    "    assert last_index - n_steps * step_length >= 0\n",
    "\n",
    "    # Reshaping and approximate standardization with mean 5 and std 3.\n",
    "    temp = (x[(last_index - n_steps * step_length):last_index].reshape(n_steps, -1) - 5 ) / 3\n",
    "    # MY CHANGE: This doesn't fix things, I get the same errors\n",
    "    #temp = (x[(last_index - n_steps * step_length):last_index].reshape(n_steps, -1).astype(np.float32) - 5 ) / 3\n",
    "    \n",
    "    # Extracts features of sequences of full length 1000, of the last 100 values and finally also \n",
    "    # of the last 10 observations. \n",
    "    return np.c_[extract_features(temp),\n",
    "                 extract_features(temp[:, -step_length // 10:]),\n",
    "                 extract_features(temp[:, -step_length // 100:])]\n",
    "                 #extract_features_roll(temp)]"
   ]
  },
  {
   "cell_type": "code",
   "execution_count": 5,
   "metadata": {},
   "outputs": [
    {
     "name": "stdout",
     "output_type": "stream",
     "text": [
      "Our RNN is based on 18 features\n"
     ]
    }
   ],
   "source": [
    "# Query \"create_X\" to figure out the number of features\n",
    "n_features = create_X(float_data[0:150000]).shape[1]\n",
    "print(\"Our RNN is based on %i features\"% n_features)\n",
    "\n",
    "# The generator endlessly selects \"batch_size\" ending positions of sub-time series. For each ending position,\n",
    "# the \"time_to_failure\" serves as target, while the features are created by the function \"create_X\".\n",
    "def generator(data, min_index=0, max_index=None, batch_size=16, n_steps=150, step_length=1000):\n",
    "    if max_index is None:\n",
    "        max_index = len(data) - 1\n",
    "     \n",
    "    while True:\n",
    "        # Pick indices of ending positions\n",
    "        rows = np.random.randint(min_index + n_steps * step_length, max_index, size=batch_size)\n",
    "         \n",
    "        # Initialize feature matrices and targets\n",
    "        samples = np.zeros((batch_size, n_steps, n_features))\n",
    "        targets = np.zeros(batch_size, )\n",
    "        \n",
    "        for j, row in enumerate(rows):\n",
    "            samples[j] = create_X(data[:, 0], last_index=row, n_steps=n_steps, step_length=step_length)\n",
    "            targets[j] = data[row - 1, 1]\n",
    "        yield samples, targets\n",
    "        \n",
    "batch_size = 32\n",
    "\n",
    "# Position of second (of 16) earthquake. Used to have a clean split\n",
    "# between train and validation\n",
    "second_earthquake = 50085877\n",
    "float_data[second_earthquake, 1]\n",
    "\n",
    "# Initialize generators\n",
    "# train_gen = generator(float_data, batch_size=batch_size) # Use this for better score\n",
    "train_gen = generator(float_data, batch_size=batch_size, min_index=second_earthquake + 1)\n",
    "valid_gen = generator(float_data, batch_size=batch_size, max_index=second_earthquake)\n"
   ]
  },
  {
   "cell_type": "code",
   "execution_count": 8,
   "metadata": {},
   "outputs": [
    {
     "name": "stdout",
     "output_type": "stream",
     "text": [
      "_________________________________________________________________\n",
      "Layer (type)                 Output Shape              Param #   \n",
      "=================================================================\n",
      "gru_2 (GRU)                  (None, 48)                9648      \n",
      "_________________________________________________________________\n",
      "dense_3 (Dense)              (None, 10)                490       \n",
      "_________________________________________________________________\n",
      "dense_4 (Dense)              (None, 1)                 11        \n",
      "=================================================================\n",
      "Total params: 10,149\n",
      "Trainable params: 10,149\n",
      "Non-trainable params: 0\n",
      "_________________________________________________________________\n"
     ]
    }
   ],
   "source": [
    "#define model\n",
    "from keras.models import Sequential\n",
    "from keras.layers import Dense, GRU\n",
    "from keras.optimizers import adam\n",
    "from keras.callbacks import EarlyStopping, ModelCheckpoint\n",
    "\n",
    "cp = [ModelCheckpoint(\"model.hdf5\", save_best_only=True, period=3),\n",
    "      EarlyStopping(monitor='val_loss', patience = 5, verbose = 1),]\n",
    "\n",
    "model = Sequential()\n",
    "model.add(GRU(48, input_shape=(None, n_features)))\n",
    "model.add(Dense(10, activation='relu'))\n",
    "model.add(Dense(1))\n",
    "\n",
    "model.summary()"
   ]
  },
  {
   "cell_type": "code",
   "execution_count": 9,
   "metadata": {},
   "outputs": [
    {
     "name": "stdout",
     "output_type": "stream",
     "text": [
      "Epoch 1/15\n",
      "1000/1000 [==============================] - 274s 274ms/step - loss: 2.3905 - val_loss: 1.7892\n",
      "Epoch 2/15\n",
      "1000/1000 [==============================] - 267s 267ms/step - loss: 2.1558 - val_loss: 1.8962\n",
      "Epoch 3/15\n",
      "1000/1000 [==============================] - 264s 264ms/step - loss: 2.1411 - val_loss: 1.8412\n",
      "Epoch 4/15\n",
      "1000/1000 [==============================] - 263s 263ms/step - loss: 2.1386 - val_loss: 1.8469\n",
      "Epoch 5/15\n",
      "1000/1000 [==============================] - 263s 263ms/step - loss: 2.1144 - val_loss: 1.9445\n",
      "Epoch 6/15\n",
      "1000/1000 [==============================] - 262s 262ms/step - loss: 2.1258 - val_loss: 1.9324\n",
      "Epoch 00006: early stopping\n"
     ]
    }
   ],
   "source": [
    "model.compile(optimizer=adam(lr=0.0005), loss=\"mae\")\n",
    "\n",
    "history = model.fit_generator(train_gen,\n",
    "                              steps_per_epoch=1000,\n",
    "                              epochs=15,\n",
    "                              verbose=1,\n",
    "                              callbacks=cp,\n",
    "                              validation_data=valid_gen,\n",
    "                              validation_steps=200)"
   ]
  },
  {
   "cell_type": "code",
   "execution_count": 10,
   "metadata": {},
   "outputs": [
    {
     "data": {
      "image/png": "[encoded data removed]",
      "text/plain": [
       "<Figure size 432x288 with 1 Axes>"
      ]
     },
     "metadata": {},
     "output_type": "display_data"
    }
   ],
   "source": [
    "# Visualize accuracies\n",
    "import matplotlib.pyplot as plt\n",
    "\n",
    "def perf_plot(history, what = 'loss'):\n",
    "    x = history.history[what]\n",
    "    val_x = history.history['val_' + what]\n",
    "    epochs = np.asarray(history.epoch) + 1\n",
    "    \n",
    "    plt.plot(epochs, x, 'bo', label = \"Training \" + what)\n",
    "    plt.plot(epochs, val_x, 'b', label = \"Validation \" + what)\n",
    "    plt.title(\"Training and validation \" + what)\n",
    "    plt.xlabel(\"Epochs\")\n",
    "    plt.legend()\n",
    "    plt.show()\n",
    "    return None\n",
    "\n",
    "perf_plot(history)"
   ]
  },
  {
   "cell_type": "code",
   "execution_count": 11,
   "metadata": {},
   "outputs": [
    {
     "name": "stdout",
     "output_type": "stream",
     "text": [
      "333\n",
      "[12.  6.  8.  5.  8.  8.  9.  7. -5.  3.]\n",
      "[1.4691 1.4691 1.4691 1.4691 1.4691 1.4691 1.4691 1.4691 1.4691 1.4691]\n",
      "[0.         1.43079722 1.39149892 1.35319614 1.31379783 1.27439952\n",
      " 1.23609674 1.19679844 1.15849566 1.11909735]\n",
      "[0.         3.93619084 4.51543427 2.92736077 3.10169411 3.49298048\n",
      " 3.74689531 2.85303259 5.09312916 1.79914677 3.06934786 3.29893517\n",
      " 2.50598693 2.55663633 3.14609671 4.27105761 3.07043886 2.94574547\n",
      " 3.36966419 2.93865275 4.03562021 2.08369303 2.19677448 2.06245852\n",
      " 3.6779809  3.13973475 2.82790446 3.55100727 3.2204752  2.99756432\n",
      " 1.30037224 1.01507235 2.13442755 6.11339903 7.94392014 8.06918812\n",
      " 8.34538937 8.64914608 8.48460579 8.43796539 8.45592499 8.42203712\n",
      " 8.26728058 8.40225506 8.33434963 8.55458832 8.32714844 8.16521454\n",
      " 8.63770103 8.55187225 8.43628883 8.47027302 8.38696575 8.49403\n",
      " 8.51578808 8.5092001  8.51765251 8.60904598 8.5610466  8.66557503\n",
      " 8.41731739 8.60801029 8.44975185 8.46907806 8.44995022 7.96861696\n",
      " 8.48130035 8.60533619 8.25658512 7.97170401 8.28576469 7.95131159\n",
      " 7.57698202 8.33895302 8.02613831 7.88684034 8.40036297 8.16519451\n",
      " 8.08700466 7.74019861 8.24090099 8.22911263 7.19217014 7.35188627\n",
      " 7.9354763  8.29384422 7.99899006 6.83773518 7.49793768 7.20043612\n",
      " 7.864254   7.05240154 7.81528282 7.61178732 7.64732075 7.8684845\n",
      " 6.99406147 7.52531481 6.57939529 7.2468648  7.4926424  7.35569906\n",
      " 6.92644501 5.68189907 6.65116024 7.03458166 7.6373477  6.58555746\n",
      " 7.71598005 6.74242163 7.03731441 6.01046753 6.9837079  7.13162422\n",
      " 5.87782621 6.49440908 6.03004408 6.12118816 6.16356373 6.52391624\n",
      " 5.97526073 6.29567671 5.69030714 5.93270063 5.82607698 5.4736433\n",
      " 5.54511166 6.06798983 4.10104132 5.31022024 5.68874836 6.60904551\n",
      " 4.9306941  4.72847414 4.8976903  6.86372519 6.45365715 5.81786108\n",
      " 6.05821228 3.89415455 5.27900028 4.55642653 6.06463003 5.20151377\n",
      " 4.16357136 5.27766562 5.5457387  4.3474884  4.4268961  5.17501783\n",
      " 5.7119503  4.51632071 4.58610201 4.19128895 6.4780612  5.10621405\n",
      " 5.40390491 4.97947168 4.89234209 4.21524239 5.02131987 5.88791275\n",
      " 4.83558512 4.08785582 6.48964834 4.37161446 4.91415262 4.46174049\n",
      " 4.49218225 5.15119267 4.30208254 3.21601558 3.02293563 3.93391013\n",
      " 4.7411623  2.5323565  3.50631833 3.88264608 3.95984221 3.97336435\n",
      " 4.58852339 4.20966339 4.21116161 5.38200521 2.53569579 3.22914028\n",
      " 3.36038232 4.02775717 3.52448511 3.80360413 4.18162632 3.44023252\n",
      " 4.64789534 4.46619558 3.20109272 3.55886269 3.91874599 4.79742384\n",
      " 3.81047726 1.84397268 2.24959803 2.4773562  2.45404911 2.45936632\n",
      " 2.4894948  1.94199717 3.27020049 2.90565276 3.01316452 3.92842937\n",
      " 4.69317579 4.63972044 0.74756801 1.20947719 1.6908325  2.58873272\n",
      " 3.18838072 3.19500756 4.85475874 3.56667137 4.32310581 2.8053813\n",
      " 4.21794653 5.3679657  6.6285882  5.38249159 4.2033596  4.45030642\n",
      " 5.20847034 5.40053606 4.91007853 4.22811747 5.77113485 4.37048244\n",
      " 5.3402071  3.63302064 5.30811596 5.07179642 4.20714998 5.81746674\n",
      " 5.46769381 2.38603139 4.39289045 4.50524521 3.76822567 3.37875342\n",
      " 2.56846809 4.05907965 2.76104856 2.94299483 4.66427803 4.94364023\n",
      " 5.10001612 3.75219584 4.62107325 2.91149783 4.57038546 2.60431576\n",
      " 3.87150168 3.7524302  3.26022243 3.27851748 3.90784359 2.41283107\n",
      " 3.94823694 3.68339515 2.40213394 4.59765244 2.98793364 3.85355163\n",
      " 3.66896701 4.82471704 3.18719292 3.20791197 3.22091246 3.30416274\n",
      " 1.92942369 2.39749622 2.57648301 3.85132933 2.70006275 1.96422386\n",
      " 2.35852098 2.19966125 2.60180068 3.15053391 2.67471552 4.35966635\n",
      " 2.48721981 2.67259145 3.26932788 3.97079015 2.39755273 2.16263175\n",
      " 3.16830564 3.11249614 2.19131303 2.34771514 2.51413178 2.46013522\n",
      " 1.97772408 1.9876678  2.89266872 2.60494137 2.56341147 2.18184614\n",
      " 2.31619787 2.79132342 2.59717226 2.27727985 3.37499762 2.23684621\n",
      " 2.61311674 3.7393012  2.02659297 2.11754942 2.81876683 1.75993276\n",
      " 1.01248109 1.3999449  1.44810772 2.12341046 2.08139658 1.92713976\n",
      " 2.26474428 2.287287   0.62998426 0.680924   1.70381224 3.27212143\n",
      " 5.96744251 7.55834675 8.50810146]\n"
     ]
    }
   ],
   "source": [
    "def plot_predictions(test,predicted):\n",
    "    plt.plot(test, color='red',label='Real time')\n",
    "    plt.plot(predicted, color='blue',label='Predicted time')\n",
    "    plt.legend()\n",
    "    plt.show()\n",
    "\n",
    "valid_data = float_data[:second_earthquake]\n",
    "x_valid = valid_data[:,0]\n",
    "y_valid = valid_data[:,1]\n",
    "\n",
    "valid_len = int(np.floor(second_earthquake/150000))\n",
    "print(valid_len)\n",
    "real_y = np.zeros(valid_len, dtype=float)\n",
    "pred = np.zeros(valid_len, dtype=float)\n",
    "for i in range(1,valid_len):\n",
    "    test = x_valid[(i-1)*150000:i*150000]\n",
    "    real_y[i] = y_valid[i*150000]\n",
    "    pred[i] = model.predict(np.expand_dims(create_X(test), 0))\n",
    "print(x_valid[:10])\n",
    "print(y_valid[:10])\n",
    "print(real_y[:10])\n",
    "print(pred)"
   ]
  },
  {
   "cell_type": "code",
   "execution_count": 12,
   "metadata": {},
   "outputs": [
    {
     "data": {
      "image/png": "[encoded data removed]",
      "text/plain": [
       "<Figure size 432x288 with 1 Axes>"
      ]
     },
     "metadata": {},
     "output_type": "display_data"
    }
   ],
   "source": [
    "# Visualizing the results\n",
    "plot_predictions(real_y,pred)"
   ]
  },
  {
   "cell_type": "code",
   "execution_count": 13,
   "metadata": {},
   "outputs": [
    {
     "name": "stdout",
     "output_type": "stream",
     "text": [
      "Valid MAE: 1.9181\n"
     ]
    }
   ],
   "source": [
    "from sklearn.metrics import mean_absolute_error\n",
    "print(f'Valid MAE: {mean_absolute_error(real_y,pred):.4f}')"
   ]
  },
  {
   "cell_type": "code",
   "execution_count": 16,
   "metadata": {},
   "outputs": [
    {
     "name": "stdout",
     "output_type": "stream",
     "text": [
      "4194\n"
     ]
    },
    {
     "data": {
      "image/png": "[encoded data removed]",
      "text/plain": [
       "<Figure size 432x288 with 1 Axes>"
      ]
     },
     "metadata": {},
     "output_type": "display_data"
    },
    {
     "name": "stdout",
     "output_type": "stream",
     "text": [
      "All MAE: 2.0812\n"
     ]
    }
   ],
   "source": [
    "x_all = float_data[:,0]\n",
    "y_all = float_data[:,1]\n",
    "\n",
    "all_len = int(np.floor(len(float_data)/150000))\n",
    "print(all_len)\n",
    "real_all_y = np.zeros(all_len, dtype=float)\n",
    "pred_all = np.zeros(all_len, dtype=float)\n",
    "for i in range(1,all_len):\n",
    "    test = x_all[(i-1)*150000:i*150000]\n",
    "    real_all_y[i] = y_all[i*150000]\n",
    "    pred_all[i] = model.predict(np.expand_dims(create_X(test), 0))\n",
    "\n",
    "# Visualizing the results of all data\n",
    "plot_predictions(real_all_y,pred_all)\n",
    "print(f'All MAE: {mean_absolute_error(real_all_y,pred_all):.4f}')"
   ]
  },
  {
   "cell_type": "code",
   "execution_count": 17,
   "metadata": {},
   "outputs": [
    {
     "name": "stderr",
     "output_type": "stream",
     "text": [
      "100%|██████████| 2624/2624 [02:05<00:00, 20.93it/s]\n"
     ]
    }
   ],
   "source": [
    "# Load submission file\n",
    "submission = pd.read_csv('../input/sample_submission.csv', index_col='seg_id', dtype={\"time_to_failure\": np.float32})\n",
    "\n",
    "# Load each test data, create the feature matrix, get numeric prediction\n",
    "for i, seg_id in enumerate(tqdm(submission.index)):\n",
    "  #  print(i)\n",
    "    seg = pd.read_csv('../input/test/' + seg_id + '.csv')\n",
    "    x = seg['acoustic_data'].values\n",
    "    submission.time_to_failure[i] = model.predict(np.expand_dims(create_X(x), 0))\n",
    "\n",
    "submission.head()\n",
    "\n",
    "# Save\n",
    "submission.to_csv('submission.csv')"
   ]
  }
 ],
 "metadata": {
  "kernelspec": {
   "display_name": "Python 3",
   "language": "python",
   "name": "python3"
  },
  "language_info": {
   "codemirror_mode": {
    "name": "ipython",
    "version": 3
   },
   "file_extension": ".py",
   "mimetype": "text/x-python",
   "name": "python",
   "nbconvert_exporter": "python",
   "pygments_lexer": "ipython3",
   "version": "3.7.3"
  }
 },
 "nbformat": 4,
 "nbformat_minor": 1
}
