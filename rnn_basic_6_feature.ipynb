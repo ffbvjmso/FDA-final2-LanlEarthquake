{
 "cells": [
  {
   "cell_type": "code",
   "execution_count": 1,
   "metadata": {
    "_cell_guid": "b1076dfc-b9ad-4769-8c92-a6c4dae69d19",
    "_uuid": "8f2839f25d086af736a60e9eeb907d3b93b6e0e5"
   },
   "outputs": [
    {
     "name": "stdout",
     "output_type": "stream",
     "text": [
      "['sample_submission.csv', 'test', 'train.csv']\n"
     ]
    }
   ],
   "source": [
    "import numpy as np\n",
    "import pandas as pd\n",
    "import os\n",
    "from tqdm import tqdm\n",
    "\n",
    "import matplotlib.pyplot as plt\n",
    "\n",
    "print(os.listdir(\"../input\"))"
   ]
  },
  {
   "cell_type": "code",
   "execution_count": 2,
   "metadata": {
    "_cell_guid": "79c7e3d0-c299-4dcb-8224-4455121ee9b0",
    "_uuid": "d629ff2d2480ee46fbb7e2d37f6b5fab8052498a"
   },
   "outputs": [],
   "source": [
    "# Fix seeds\n",
    "from numpy.random import seed\n",
    "seed(639)\n",
    "from tensorflow import set_random_seed\n",
    "set_random_seed(5944)\n",
    "\n",
    "#read data\n",
    "float_data = pd.read_csv(\"../input/train.csv\", dtype={\"acoustic_data\": np.float32, \"time_to_failure\": np.float32}).values"
   ]
  },
  {
   "cell_type": "code",
   "execution_count": 3,
   "metadata": {},
   "outputs": [],
   "source": [
    "#create feature\n",
    "def extract_features(z):\n",
    "     return np.c_[z.mean(axis=1), \n",
    "                  np.transpose(np.percentile(np.abs(z), q=[0, 50, 75, 100], axis=1)),\n",
    "                  z.std(axis=1)]\n",
    "def extract_features_roll(z):\n",
    "    \n",
    "    df_z = pd.DataFrame(z)\n",
    "    \n",
    "    df_roll_std_50 = df_z.rolling(50, axis=1).std().values[:, 49:]\n",
    "    df_roll_skew_50 = df_z.rolling(50, axis=1).skew().values[:, 49:]\n",
    "    df_roll_kurt_50 = df_z.rolling(50, axis=1).kurt().values[:, 49:]\n",
    "    df_roll_mean_50 = df_z.rolling(50, axis=1).mean().values[:, 49:]\n",
    "    \n",
    "    df_roll_std_100 = df_z.rolling(100, axis=1).std().values[:, 99:]\n",
    "    df_roll_skew_100 = df_z.rolling(100, axis=1).skew().values[:, 99:]\n",
    "    df_roll_kurt_100 = df_z.rolling(100, axis=1).kurt().values[:, 99:]\n",
    "    df_roll_mean_100 = df_z.rolling(100, axis=1).mean().values[:, 99:]\n",
    "    \n",
    "    return np.c_[#np.quantile(df_roll_std, 0.05, axis=1),\n",
    "                 #np.quantile(df_roll_std, 0.10, axis=1),\n",
    "                 #np.quantile(df_roll_skew, 0.05, axis=1),\n",
    "                 #np.quantile(df_roll_skew, 0.10, axis=1),\n",
    "                 #np.quantile(df_roll_kurt, 0.05, axis=1),\n",
    "                 #np.quantile(df_roll_kurt, 0.10, axis=1),\n",
    "                 np.transpose(np.quantile(df_roll_std_50, q=[0.01, 0.05, 0.10, 0.95, 0.99], axis=1)),\n",
    "                 np.transpose(np.quantile(df_roll_std_100, q=[0.01, 0.05, 0.10, 0.95, 0.99], axis=1)),\n",
    "                 np.transpose(np.quantile(df_roll_skew_50, q=[0.05, 0.10], axis=1)),\n",
    "                 np.transpose(np.quantile(df_roll_skew_100, q=[0.05, 0.10], axis=1)),\n",
    "                 np.transpose(np.quantile(df_roll_kurt_50, q=[0.05, 0.10], axis=1)),\n",
    "                 np.transpose(np.quantile(df_roll_kurt_100, q=[0.05, 0.10], axis=1)),\n",
    "                 np.transpose(np.quantile(df_roll_mean_50, q=[0.05, 0.10, 0.95], axis=1)),\n",
    "                 np.transpose(np.quantile(df_roll_mean_100, q=[0.05, 0.10, 0.95], axis=1)),\n",
    "                ]\n",
    "\n",
    "def create_X(x, last_index=None, n_steps=150, step_length=1000):\n",
    "    if last_index == None:\n",
    "        last_index=len(x)\n",
    "       \n",
    "    assert last_index - n_steps * step_length >= 0\n",
    "\n",
    "    # Reshaping and approximate standardization with mean 5 and std 3.\n",
    "    temp = (x[(last_index - n_steps * step_length):last_index].reshape(n_steps, -1) - 5 ) / 3\n",
    "    # MY CHANGE: This doesn't fix things, I get the same errors\n",
    "    #temp = (x[(last_index - n_steps * step_length):last_index].reshape(n_steps, -1).astype(np.float32) - 5 ) / 3\n",
    "    \n",
    "    # Extracts features of sequences of full length 1000, of the last 100 values and finally also \n",
    "    # of the last 10 observations. \n",
    "    return np.c_[extract_features(temp)]#,\n",
    "                 #extract_features(temp[:, -step_length // 10:]),\n",
    "                 #extract_features(temp[:, -step_length // 100:])]\n",
    "                 #extract_features_roll(temp)]"
   ]
  },
  {
   "cell_type": "code",
   "execution_count": 4,
   "metadata": {},
   "outputs": [
    {
     "name": "stdout",
     "output_type": "stream",
     "text": [
      "Our RNN is based on 6 features\n"
     ]
    }
   ],
   "source": [
    "# Query \"create_X\" to figure out the number of features\n",
    "n_features = create_X(float_data[0:150000]).shape[1]\n",
    "print(\"Our RNN is based on %i features\"% n_features)\n",
    "\n",
    "# The generator endlessly selects \"batch_size\" ending positions of sub-time series. For each ending position,\n",
    "# the \"time_to_failure\" serves as target, while the features are created by the function \"create_X\".\n",
    "def generator(data, min_index=0, max_index=None, batch_size=16, n_steps=150, step_length=1000):\n",
    "    if max_index is None:\n",
    "        max_index = len(data) - 1\n",
    "     \n",
    "    while True:\n",
    "        # Pick indices of ending positions\n",
    "        rows = np.random.randint(min_index + n_steps * step_length, max_index, size=batch_size)\n",
    "         \n",
    "        # Initialize feature matrices and targets\n",
    "        samples = np.zeros((batch_size, n_steps, n_features))\n",
    "        targets = np.zeros(batch_size, )\n",
    "        \n",
    "        for j, row in enumerate(rows):\n",
    "            samples[j] = create_X(data[:, 0], last_index=row, n_steps=n_steps, step_length=step_length)\n",
    "            targets[j] = data[row - 1, 1]\n",
    "        yield samples, targets\n",
    "        \n",
    "batch_size = 32\n",
    "\n",
    "# Position of second (of 16) earthquake. Used to have a clean split\n",
    "# between train and validation\n",
    "second_earthquake = 50085877\n",
    "float_data[second_earthquake, 1]\n",
    "\n",
    "# Initialize generators\n",
    "# train_gen = generator(float_data, batch_size=batch_size) # Use this for better score\n",
    "train_gen = generator(float_data, batch_size=batch_size, min_index=second_earthquake + 1)\n",
    "valid_gen = generator(float_data, batch_size=batch_size, max_index=second_earthquake)\n"
   ]
  },
  {
   "cell_type": "code",
   "execution_count": 5,
   "metadata": {},
   "outputs": [
    {
     "name": "stdout",
     "output_type": "stream",
     "text": [
      "WARNING:tensorflow:From /opt/conda/lib/python3.6/site-packages/tensorflow/python/framework/op_def_library.py:263: colocate_with (from tensorflow.python.framework.ops) is deprecated and will be removed in a future version.\n",
      "Instructions for updating:\n",
      "Colocations handled automatically by placer.\n"
     ]
    },
    {
     "name": "stderr",
     "output_type": "stream",
     "text": [
      "Using TensorFlow backend.\n"
     ]
    },
    {
     "name": "stdout",
     "output_type": "stream",
     "text": [
      "_________________________________________________________________\n",
      "Layer (type)                 Output Shape              Param #   \n",
      "=================================================================\n",
      "gru_1 (GRU)                  (None, 48)                7920      \n",
      "_________________________________________________________________\n",
      "dense_1 (Dense)              (None, 10)                490       \n",
      "_________________________________________________________________\n",
      "dense_2 (Dense)              (None, 1)                 11        \n",
      "=================================================================\n",
      "Total params: 8,421\n",
      "Trainable params: 8,421\n",
      "Non-trainable params: 0\n",
      "_________________________________________________________________\n"
     ]
    }
   ],
   "source": [
    "#define model\n",
    "from keras.models import Sequential\n",
    "from keras.layers import Dense, GRU\n",
    "from keras.optimizers import adam\n",
    "from keras.callbacks import EarlyStopping, ModelCheckpoint\n",
    "\n",
    "cp = [ModelCheckpoint(\"model.hdf5\", save_best_only=True, period=3),\n",
    "      EarlyStopping(monitor='val_loss', patience = 5, verbose = 1),]\n",
    "\n",
    "model = Sequential()\n",
    "model.add(GRU(48, input_shape=(None, n_features)))\n",
    "model.add(Dense(10, activation='relu'))\n",
    "model.add(Dense(1))\n",
    "\n",
    "model.summary()"
   ]
  },
  {
   "cell_type": "code",
   "execution_count": 6,
   "metadata": {},
   "outputs": [
    {
     "name": "stdout",
     "output_type": "stream",
     "text": [
      "WARNING:tensorflow:From /opt/conda/lib/python3.6/site-packages/tensorflow/python/ops/math_ops.py:3066: to_int32 (from tensorflow.python.ops.math_ops) is deprecated and will be removed in a future version.\n",
      "Instructions for updating:\n",
      "Use tf.cast instead.\n",
      "Epoch 1/15\n",
      "1000/1000 [==============================] - 240s 240ms/step - loss: 2.5674 - val_loss: 2.0343\n",
      "Epoch 2/15\n",
      "1000/1000 [==============================] - 231s 231ms/step - loss: 2.1674 - val_loss: 1.9472\n",
      "Epoch 3/15\n",
      "1000/1000 [==============================] - 231s 231ms/step - loss: 2.1370 - val_loss: 1.9167\n",
      "Epoch 4/15\n",
      "1000/1000 [==============================] - 236s 236ms/step - loss: 2.1330 - val_loss: 1.8458\n",
      "Epoch 5/15\n",
      "1000/1000 [==============================] - 232s 232ms/step - loss: 2.1230 - val_loss: 1.9263\n",
      "Epoch 6/15\n",
      "1000/1000 [==============================] - 229s 229ms/step - loss: 2.1246 - val_loss: 1.8484\n",
      "Epoch 7/15\n",
      "1000/1000 [==============================] - 228s 228ms/step - loss: 2.1231 - val_loss: 1.8713\n",
      "Epoch 8/15\n",
      "1000/1000 [==============================] - 228s 228ms/step - loss: 2.1195 - val_loss: 1.8973\n",
      "Epoch 9/15\n",
      "1000/1000 [==============================] - 229s 229ms/step - loss: 2.1248 - val_loss: 1.7325\n",
      "Epoch 10/15\n",
      "1000/1000 [==============================] - 227s 227ms/step - loss: 2.0855 - val_loss: 1.8773\n",
      "Epoch 11/15\n",
      "1000/1000 [==============================] - 228s 228ms/step - loss: 2.1021 - val_loss: 1.9421\n",
      "Epoch 12/15\n",
      "1000/1000 [==============================] - 228s 228ms/step - loss: 2.0955 - val_loss: 1.9465\n",
      "Epoch 13/15\n",
      "1000/1000 [==============================] - 228s 228ms/step - loss: 2.1070 - val_loss: 1.8727\n",
      "Epoch 14/15\n",
      "1000/1000 [==============================] - 227s 227ms/step - loss: 2.0915 - val_loss: 1.9513\n",
      "Epoch 00014: early stopping\n"
     ]
    }
   ],
   "source": [
    "model.compile(optimizer=adam(lr=0.0005), loss=\"mae\")\n",
    "\n",
    "history = model.fit_generator(train_gen,\n",
    "                              steps_per_epoch=1000,\n",
    "                              epochs=15,\n",
    "                              verbose=1,\n",
    "                              callbacks=cp,\n",
    "                              validation_data=valid_gen,\n",
    "                              validation_steps=200)"
   ]
  },
  {
   "cell_type": "code",
   "execution_count": 7,
   "metadata": {},
   "outputs": [
    {
     "data": {
      "image/png": "[encoded data removed]",
      "text/plain": [
       "<Figure size 432x288 with 1 Axes>"
      ]
     },
     "metadata": {},
     "output_type": "display_data"
    }
   ],
   "source": [
    "# Visualize accuracies\n",
    "import matplotlib.pyplot as plt\n",
    "\n",
    "def perf_plot(history, what = 'loss'):\n",
    "    x = history.history[what]\n",
    "    val_x = history.history['val_' + what]\n",
    "    epochs = np.asarray(history.epoch) + 1\n",
    "    \n",
    "    plt.plot(epochs, x, 'bo', label = \"Training \" + what)\n",
    "    plt.plot(epochs, val_x, 'b', label = \"Validation \" + what)\n",
    "    plt.title(\"Training and validation \" + what)\n",
    "    plt.xlabel(\"Epochs\")\n",
    "    plt.legend()\n",
    "    plt.show()\n",
    "    return None\n",
    "\n",
    "perf_plot(history)"
   ]
  },
  {
   "cell_type": "code",
   "execution_count": 8,
   "metadata": {},
   "outputs": [
    {
     "name": "stdout",
     "output_type": "stream",
     "text": [
      "333\n",
      "[12.  6.  8.  5.  8.  8.  9.  7. -5.  3.]\n",
      "[1.4691 1.4691 1.4691 1.4691 1.4691 1.4691 1.4691 1.4691 1.4691 1.4691]\n",
      "[0.         1.43079722 1.39149892 1.35319614 1.31379783 1.27439952\n",
      " 1.23609674 1.19679844 1.15849566 1.11909735]\n",
      "[0.         4.75499916 5.44425249 3.58127356 3.65783381 4.80026054\n",
      " 5.27576637 4.08297729 6.08248615 2.31962895 3.18105388 4.21788836\n",
      " 2.14635682 2.41065836 3.45083213 5.75452232 3.79452395 3.3460896\n",
      " 4.91420317 2.96612573 4.89646864 1.9131825  2.25666404 2.30973935\n",
      " 4.32521248 2.73479342 2.87555027 4.63422871 4.10032272 3.32826805\n",
      " 0.83338815 0.86086166 2.42925811 6.04986429 8.14633465 8.42597008\n",
      " 8.39351273 8.54547787 8.66505909 8.60226822 8.62257099 8.49347496\n",
      " 8.32621002 8.60449314 8.47652149 8.7214098  8.60282707 8.46795845\n",
      " 8.69056511 8.68613434 8.606493   8.51223087 8.61227131 8.54162693\n",
      " 8.74742222 8.66368866 8.66527367 8.797225   8.72296715 8.81730175\n",
      " 8.61890411 8.46841431 8.77796841 8.52612877 8.73074627 8.17991066\n",
      " 8.51993752 8.48074436 8.39770126 8.27966118 8.4133358  8.11517334\n",
      " 8.00774002 8.55946732 8.38543892 8.30590248 8.46810246 8.46323967\n",
      " 8.28107166 8.35197353 8.43369675 8.42124081 8.11049271 8.04887581\n",
      " 8.22291183 8.51316071 8.30918026 7.35657883 8.0410738  7.83012724\n",
      " 8.15642643 7.8174715  7.90719509 8.00490379 8.01788712 8.18657112\n",
      " 7.7115078  7.80513763 6.64699745 7.85668039 8.17621136 7.9976635\n",
      " 7.55000591 6.87175083 7.57743168 7.57626057 8.19330597 7.52161503\n",
      " 8.09194565 7.52339888 7.92035913 6.83854675 7.78688049 7.85154533\n",
      " 6.86576748 7.3131609  6.24283552 6.57566643 6.82742882 7.08992958\n",
      " 6.62055922 7.20090389 6.67276859 6.48576021 6.62447739 6.41466522\n",
      " 6.48382235 6.77933216 4.19836617 5.63020325 6.95150471 6.75715733\n",
      " 5.67583609 4.90688944 6.31590319 7.34146786 7.18422461 6.53386927\n",
      " 6.94994593 4.4706645  6.57241774 5.97951937 6.62690687 6.27861977\n",
      " 5.65612602 5.6116128  6.20492697 5.15664721 4.45932007 6.33761263\n",
      " 6.0374403  5.90554667 4.37343836 4.70708609 6.47574615 5.56352472\n",
      " 5.97490501 4.77503204 5.16579771 4.36734295 5.69333076 6.80484009\n",
      " 4.42145348 4.44126034 6.67416477 4.16311646 5.65793085 4.70033979\n",
      " 5.54892349 5.40409565 4.66169739 4.13604736 3.39223075 4.34905434\n",
      " 4.74018574 2.64824057 3.97865653 4.8660841  5.00078011 4.6268816\n",
      " 5.61630678 5.36996365 5.19801092 5.38747501 2.68459821 4.42242813\n",
      " 4.41628265 4.78097773 3.12670994 3.2381475  5.57409668 4.74556208\n",
      " 4.94335365 4.74189997 3.33812308 3.79483581 3.26855421 5.52213383\n",
      " 4.56242323 1.57345724 2.21663618 3.19925857 2.72050691 2.59306097\n",
      " 2.89118147 1.90570402 4.37574053 2.77464366 4.10249901 4.53768349\n",
      " 5.69110775 5.76499748 0.73384869 1.37617493 1.83381367 3.00349069\n",
      " 3.53584599 3.92402744 5.97926331 3.74908948 5.81717491 3.06341863\n",
      " 4.88629913 6.70969391 7.2650485  6.35652733 5.61178255 4.84755039\n",
      " 6.64740467 6.37849236 5.63399315 5.20424604 6.84797573 5.21089315\n",
      " 6.15675783 5.2442193  6.245121   5.57882452 5.6085062  6.53337383\n",
      " 6.44876099 2.86701512 4.05893755 5.31437349 4.97260571 4.83103657\n",
      " 2.54213023 5.37761927 3.60074306 3.30420566 5.19910574 5.80767536\n",
      " 5.88849068 3.90148234 5.82739544 4.13958549 5.24092865 2.87319827\n",
      " 4.34188509 4.56374645 3.69886446 3.98277426 5.34794712 2.59469366\n",
      " 4.78407478 4.44830656 2.57237077 5.96511269 4.47887611 4.15074968\n",
      " 4.44667292 4.91261911 3.38094449 3.73717475 3.35111094 3.61080098\n",
      " 2.45759273 2.49978471 2.31716228 4.77720022 2.73582602 2.02378225\n",
      " 2.71447873 2.29495406 3.13457417 2.84196258 2.8175776  5.59273863\n",
      " 2.51625037 3.21259975 3.17671466 5.30804443 2.9148972  1.95036876\n",
      " 3.14451432 3.53413224 2.24310303 3.22972465 2.70009589 3.8115685\n",
      " 2.33685875 2.28072548 3.28273702 3.07830453 3.34714341 2.78411078\n",
      " 2.27483439 2.97946095 2.79582524 2.44086885 3.14279199 2.76855922\n",
      " 2.51971173 4.3795867  2.57468438 2.36610627 2.38450813 1.94010973\n",
      " 1.20050478 1.2456634  1.43788433 2.22046828 1.70645404 2.32784104\n",
      " 2.19523859 2.35037208 0.46119922 0.31995365 1.72032714 3.01457477\n",
      " 6.48478556 7.96978235 8.53365231]\n"
     ]
    }
   ],
   "source": [
    "def plot_predictions(test,predicted):\n",
    "    plt.plot(test, color='red',label='Real time')\n",
    "    plt.plot(predicted, color='blue',label='Predicted time')\n",
    "    plt.legend()\n",
    "    plt.show()\n",
    "\n",
    "valid_data = float_data[:second_earthquake]\n",
    "x_valid = valid_data[:,0]\n",
    "y_valid = valid_data[:,1]\n",
    "\n",
    "valid_len = int(np.floor(second_earthquake/150000))\n",
    "print(valid_len)\n",
    "real_y = np.zeros(valid_len, dtype=float)\n",
    "pred = np.zeros(valid_len, dtype=float)\n",
    "for i in range(1,valid_len):\n",
    "    test = x_valid[(i-1)*150000:i*150000]\n",
    "    real_y[i] = y_valid[i*150000]\n",
    "    pred[i] = model.predict(np.expand_dims(create_X(test), 0))\n",
    "print(x_valid[:10])\n",
    "print(y_valid[:10])\n",
    "print(real_y[:10])\n",
    "print(pred)"
   ]
  },
  {
   "cell_type": "code",
   "execution_count": 9,
   "metadata": {},
   "outputs": [
    {
     "data": {
      "image/png": "[encoded data removed]",
      "text/plain": [
       "<Figure size 432x288 with 1 Axes>"
      ]
     },
     "metadata": {},
     "output_type": "display_data"
    }
   ],
   "source": [
    "# Visualizing the results\n",
    "plot_predictions(real_y,pred)"
   ]
  },
  {
   "cell_type": "code",
   "execution_count": 10,
   "metadata": {},
   "outputs": [
    {
     "name": "stdout",
     "output_type": "stream",
     "text": [
      "Valid MAE: 1.8854\n"
     ]
    }
   ],
   "source": [
    "from sklearn.metrics import mean_absolute_error\n",
    "print(f'Valid MAE: {mean_absolute_error(real_y,pred):.4f}')"
   ]
  },
  {
   "cell_type": "code",
   "execution_count": 11,
   "metadata": {},
   "outputs": [
    {
     "name": "stdout",
     "output_type": "stream",
     "text": [
      "4194\n"
     ]
    },
    {
     "data": {
      "image/png": "[encoded data removed]",
      "text/plain": [
       "<Figure size 432x288 with 1 Axes>"
      ]
     },
     "metadata": {},
     "output_type": "display_data"
    },
    {
     "name": "stdout",
     "output_type": "stream",
     "text": [
      "All MAE: 2.0889\n"
     ]
    }
   ],
   "source": [
    "x_all = float_data[:,0]\n",
    "y_all = float_data[:,1]\n",
    "\n",
    "all_len = int(np.floor(len(float_data)/150000))\n",
    "print(all_len)\n",
    "real_all_y = np.zeros(all_len, dtype=float)\n",
    "pred_all = np.zeros(all_len, dtype=float)\n",
    "for i in range(1,all_len):\n",
    "    test = x_all[(i-1)*150000:i*150000]\n",
    "    real_all_y[i] = y_all[i*150000]\n",
    "    pred_all[i] = model.predict(np.expand_dims(create_X(test), 0))\n",
    "\n",
    "# Visualizing the results of all data\n",
    "plot_predictions(real_all_y,pred_all)\n",
    "print(f'All MAE: {mean_absolute_error(real_all_y,pred_all):.4f}')"
   ]
  },
  {
   "cell_type": "code",
   "execution_count": 12,
   "metadata": {},
   "outputs": [
    {
     "name": "stderr",
     "output_type": "stream",
     "text": [
      "100%|██████████| 2624/2624 [01:57<00:00, 22.27it/s]\n"
     ]
    }
   ],
   "source": [
    "# Load submission file\n",
    "submission = pd.read_csv('../input/sample_submission.csv', index_col='seg_id', dtype={\"time_to_failure\": np.float32})\n",
    "\n",
    "# Load each test data, create the feature matrix, get numeric prediction\n",
    "for i, seg_id in enumerate(tqdm(submission.index)):\n",
    "  #  print(i)\n",
    "    seg = pd.read_csv('../input/test/' + seg_id + '.csv')\n",
    "    x = seg['acoustic_data'].values\n",
    "    submission.time_to_failure[i] = model.predict(np.expand_dims(create_X(x), 0))\n",
    "\n",
    "submission.head()\n",
    "\n",
    "# Save\n",
    "submission.to_csv('submission.csv')"
   ]
  }
 ],
 "metadata": {
  "kernelspec": {
   "display_name": "Python 3",
   "language": "python",
   "name": "python3"
  },
  "language_info": {
   "codemirror_mode": {
    "name": "ipython",
    "version": 3
   },
   "file_extension": ".py",
   "mimetype": "text/x-python",
   "name": "python",
   "nbconvert_exporter": "python",
   "pygments_lexer": "ipython3",
   "version": "3.7.3"
  }
 },
 "nbformat": 4,
 "nbformat_minor": 1
}
