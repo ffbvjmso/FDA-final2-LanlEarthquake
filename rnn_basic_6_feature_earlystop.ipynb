{
 "cells": [
  {
   "cell_type": "code",
   "execution_count": 1,
   "metadata": {
    "_cell_guid": "b1076dfc-b9ad-4769-8c92-a6c4dae69d19",
    "_uuid": "8f2839f25d086af736a60e9eeb907d3b93b6e0e5"
   },
   "outputs": [
    {
     "name": "stdout",
     "output_type": "stream",
     "text": [
      "['sample_submission.csv', 'test', 'train.csv']\n"
     ]
    }
   ],
   "source": [
    "import numpy as np\n",
    "import pandas as pd\n",
    "import os\n",
    "from tqdm import tqdm\n",
    "\n",
    "import matplotlib.pyplot as plt\n",
    "\n",
    "print(os.listdir(\"../input\"))"
   ]
  },
  {
   "cell_type": "code",
   "execution_count": 2,
   "metadata": {
    "_cell_guid": "79c7e3d0-c299-4dcb-8224-4455121ee9b0",
    "_uuid": "d629ff2d2480ee46fbb7e2d37f6b5fab8052498a"
   },
   "outputs": [],
   "source": [
    "# Fix seeds\n",
    "from numpy.random import seed\n",
    "seed(639)\n",
    "from tensorflow import set_random_seed\n",
    "set_random_seed(5944)\n",
    "\n",
    "#read data\n",
    "float_data = pd.read_csv(\"../input/train.csv\", dtype={\"acoustic_data\": np.float32, \"time_to_failure\": np.float32}).values"
   ]
  },
  {
   "cell_type": "code",
   "execution_count": 3,
   "metadata": {},
   "outputs": [],
   "source": [
    "#create feature\n",
    "def extract_features(z):\n",
    "     return np.c_[z.mean(axis=1), \n",
    "                  np.transpose(np.percentile(np.abs(z), q=[0, 50, 75, 100], axis=1)),\n",
    "                  z.std(axis=1)]\n",
    "def extract_features_roll(z):\n",
    "    \n",
    "    df_z = pd.DataFrame(z)\n",
    "    \n",
    "    df_roll_std_50 = df_z.rolling(50, axis=1).std().values[:, 49:]\n",
    "    df_roll_skew_50 = df_z.rolling(50, axis=1).skew().values[:, 49:]\n",
    "    df_roll_kurt_50 = df_z.rolling(50, axis=1).kurt().values[:, 49:]\n",
    "    df_roll_mean_50 = df_z.rolling(50, axis=1).mean().values[:, 49:]\n",
    "    \n",
    "    df_roll_std_100 = df_z.rolling(100, axis=1).std().values[:, 99:]\n",
    "    df_roll_skew_100 = df_z.rolling(100, axis=1).skew().values[:, 99:]\n",
    "    df_roll_kurt_100 = df_z.rolling(100, axis=1).kurt().values[:, 99:]\n",
    "    df_roll_mean_100 = df_z.rolling(100, axis=1).mean().values[:, 99:]\n",
    "    \n",
    "    return np.c_[#np.quantile(df_roll_std, 0.05, axis=1),\n",
    "                 #np.quantile(df_roll_std, 0.10, axis=1),\n",
    "                 #np.quantile(df_roll_skew, 0.05, axis=1),\n",
    "                 #np.quantile(df_roll_skew, 0.10, axis=1),\n",
    "                 #np.quantile(df_roll_kurt, 0.05, axis=1),\n",
    "                 #np.quantile(df_roll_kurt, 0.10, axis=1),\n",
    "                 np.transpose(np.quantile(df_roll_std_50, q=[0.01, 0.05, 0.10, 0.95, 0.99], axis=1)),\n",
    "                 np.transpose(np.quantile(df_roll_std_100, q=[0.01, 0.05, 0.10, 0.95, 0.99], axis=1)),\n",
    "                 np.transpose(np.quantile(df_roll_skew_50, q=[0.05, 0.10], axis=1)),\n",
    "                 np.transpose(np.quantile(df_roll_skew_100, q=[0.05, 0.10], axis=1)),\n",
    "                 np.transpose(np.quantile(df_roll_kurt_50, q=[0.05, 0.10], axis=1)),\n",
    "                 np.transpose(np.quantile(df_roll_kurt_100, q=[0.05, 0.10], axis=1)),\n",
    "                 np.transpose(np.quantile(df_roll_mean_50, q=[0.05, 0.10, 0.95], axis=1)),\n",
    "                 np.transpose(np.quantile(df_roll_mean_100, q=[0.05, 0.10, 0.95], axis=1)),\n",
    "                ]\n",
    "\n",
    "def create_X(x, last_index=None, n_steps=150, step_length=1000):\n",
    "    if last_index == None:\n",
    "        last_index=len(x)\n",
    "       \n",
    "    assert last_index - n_steps * step_length >= 0\n",
    "\n",
    "    # Reshaping and approximate standardization with mean 5 and std 3.\n",
    "    temp = (x[(last_index - n_steps * step_length):last_index].reshape(n_steps, -1) - 5 ) / 3\n",
    "    # MY CHANGE: This doesn't fix things, I get the same errors\n",
    "    #temp = (x[(last_index - n_steps * step_length):last_index].reshape(n_steps, -1).astype(np.float32) - 5 ) / 3\n",
    "    \n",
    "    # Extracts features of sequences of full length 1000, of the last 100 values and finally also \n",
    "    # of the last 10 observations. \n",
    "    return np.c_[extract_features(temp)]#,\n",
    "                 #extract_features(temp[:, -step_length // 10:]),\n",
    "                 #extract_features(temp[:, -step_length // 100:])]\n",
    "                 #extract_features_roll(temp)]"
   ]
  },
  {
   "cell_type": "code",
   "execution_count": 4,
   "metadata": {},
   "outputs": [
    {
     "name": "stdout",
     "output_type": "stream",
     "text": [
      "Our RNN is based on 6 features\n"
     ]
    }
   ],
   "source": [
    "# Query \"create_X\" to figure out the number of features\n",
    "n_features = create_X(float_data[0:150000]).shape[1]\n",
    "print(\"Our RNN is based on %i features\"% n_features)\n",
    "\n",
    "# The generator endlessly selects \"batch_size\" ending positions of sub-time series. For each ending position,\n",
    "# the \"time_to_failure\" serves as target, while the features are created by the function \"create_X\".\n",
    "def generator(data, min_index=0, max_index=None, batch_size=16, n_steps=150, step_length=1000):\n",
    "    if max_index is None:\n",
    "        max_index = len(data) - 1\n",
    "     \n",
    "    while True:\n",
    "        # Pick indices of ending positions\n",
    "        rows = np.random.randint(min_index + n_steps * step_length, max_index, size=batch_size)\n",
    "         \n",
    "        # Initialize feature matrices and targets\n",
    "        samples = np.zeros((batch_size, n_steps, n_features))\n",
    "        targets = np.zeros(batch_size, )\n",
    "        \n",
    "        for j, row in enumerate(rows):\n",
    "            samples[j] = create_X(data[:, 0], last_index=row, n_steps=n_steps, step_length=step_length)\n",
    "            targets[j] = data[row - 1, 1]\n",
    "        yield samples, targets\n",
    "        \n",
    "batch_size = 32\n",
    "\n",
    "# Position of second (of 16) earthquake. Used to have a clean split\n",
    "# between train and validation\n",
    "second_earthquake = 50085877\n",
    "float_data[second_earthquake, 1]\n",
    "\n",
    "# Initialize generators\n",
    "# train_gen = generator(float_data, batch_size=batch_size) # Use this for better score\n",
    "train_gen = generator(float_data, batch_size=batch_size, min_index=second_earthquake + 1)\n",
    "valid_gen = generator(float_data, batch_size=batch_size, max_index=second_earthquake)\n"
   ]
  },
  {
   "cell_type": "code",
   "execution_count": 13,
   "metadata": {},
   "outputs": [
    {
     "name": "stdout",
     "output_type": "stream",
     "text": [
      "_________________________________________________________________\n",
      "Layer (type)                 Output Shape              Param #   \n",
      "=================================================================\n",
      "gru_2 (GRU)                  (None, 48)                7920      \n",
      "_________________________________________________________________\n",
      "dense_3 (Dense)              (None, 10)                490       \n",
      "_________________________________________________________________\n",
      "dense_4 (Dense)              (None, 1)                 11        \n",
      "=================================================================\n",
      "Total params: 8,421\n",
      "Trainable params: 8,421\n",
      "Non-trainable params: 0\n",
      "_________________________________________________________________\n"
     ]
    }
   ],
   "source": [
    "#define model\n",
    "from keras.models import Sequential\n",
    "from keras.layers import Dense, GRU\n",
    "from keras.optimizers import adam\n",
    "from keras.callbacks import EarlyStopping, ModelCheckpoint\n",
    "\n",
    "cp = [ModelCheckpoint(\"model.hdf5\", save_best_only=True, period=3),\n",
    "      EarlyStopping(monitor='val_loss', patience = 3, verbose = 1),]\n",
    "\n",
    "model = Sequential()\n",
    "model.add(GRU(48, input_shape=(None, n_features)))\n",
    "model.add(Dense(10, activation='relu'))\n",
    "model.add(Dense(1))\n",
    "\n",
    "model.summary()"
   ]
  },
  {
   "cell_type": "code",
   "execution_count": 14,
   "metadata": {},
   "outputs": [
    {
     "name": "stdout",
     "output_type": "stream",
     "text": [
      "Epoch 1/15\n",
      "1000/1000 [==============================] - 237s 237ms/step - loss: 2.4733 - val_loss: 1.8428\n",
      "Epoch 2/15\n",
      "1000/1000 [==============================] - 234s 234ms/step - loss: 2.1391 - val_loss: 1.9272\n",
      "Epoch 3/15\n",
      "1000/1000 [==============================] - 232s 232ms/step - loss: 2.1247 - val_loss: 1.6806\n",
      "Epoch 4/15\n",
      "1000/1000 [==============================] - 229s 229ms/step - loss: 2.1390 - val_loss: 1.6916\n",
      "Epoch 5/15\n",
      "1000/1000 [==============================] - 227s 227ms/step - loss: 2.1075 - val_loss: 1.9084\n",
      "Epoch 6/15\n",
      "1000/1000 [==============================] - 228s 228ms/step - loss: 2.1073 - val_loss: 1.8353\n",
      "Epoch 00006: early stopping\n"
     ]
    }
   ],
   "source": [
    "model.compile(optimizer=adam(lr=0.0005), loss=\"mae\")\n",
    "\n",
    "history = model.fit_generator(train_gen,\n",
    "                              steps_per_epoch=1000,\n",
    "                              epochs=15,\n",
    "                              verbose=1,\n",
    "                              callbacks=cp,\n",
    "                              validation_data=valid_gen,\n",
    "                              validation_steps=200)"
   ]
  },
  {
   "cell_type": "code",
   "execution_count": 15,
   "metadata": {},
   "outputs": [
    {
     "data": {
      "image/png": "[encoded data removed]",
      "text/plain": [
       "<Figure size 432x288 with 1 Axes>"
      ]
     },
     "metadata": {},
     "output_type": "display_data"
    }
   ],
   "source": [
    "# Visualize accuracies\n",
    "import matplotlib.pyplot as plt\n",
    "\n",
    "def perf_plot(history, what = 'loss'):\n",
    "    x = history.history[what]\n",
    "    val_x = history.history['val_' + what]\n",
    "    epochs = np.asarray(history.epoch) + 1\n",
    "    \n",
    "    plt.plot(epochs, x, 'bo', label = \"Training \" + what)\n",
    "    plt.plot(epochs, val_x, 'b', label = \"Validation \" + what)\n",
    "    plt.title(\"Training and validation \" + what)\n",
    "    plt.xlabel(\"Epochs\")\n",
    "    plt.legend()\n",
    "    plt.show()\n",
    "    return None\n",
    "\n",
    "perf_plot(history)"
   ]
  },
  {
   "cell_type": "code",
   "execution_count": 16,
   "metadata": {},
   "outputs": [
    {
     "name": "stdout",
     "output_type": "stream",
     "text": [
      "333\n",
      "[12.  6.  8.  5.  8.  8.  9.  7. -5.  3.]\n",
      "[1.4691 1.4691 1.4691 1.4691 1.4691 1.4691 1.4691 1.4691 1.4691 1.4691]\n",
      "[0.         1.43079722 1.39149892 1.35319614 1.31379783 1.27439952\n",
      " 1.23609674 1.19679844 1.15849566 1.11909735]\n",
      "[0.         4.33407259 5.02600861 3.20047212 3.52311492 4.06690884\n",
      " 4.31295109 3.98037744 5.54829407 2.53232121 3.71890783 3.72873616\n",
      " 2.56297946 2.78944802 3.58365417 5.05512571 3.53742003 3.79673004\n",
      " 3.93726063 3.21614909 4.39774704 2.27671576 2.45337677 2.60965848\n",
      " 4.01690197 3.42140007 3.36031532 4.29458904 3.90716147 3.40412688\n",
      " 1.09885073 1.26364994 2.73116016 6.57743168 8.48938084 8.7974844\n",
      " 8.78509331 9.00778008 8.78684425 8.85896587 8.94367027 8.88412666\n",
      " 8.66822243 8.89569759 8.83296967 9.01587677 8.88241768 8.77095795\n",
      " 9.07626534 9.00812054 9.04101562 9.10495567 9.00642109 8.94750404\n",
      " 9.05512428 9.06202126 8.91307449 9.19620609 9.07185936 9.14439201\n",
      " 8.98347569 8.81551552 9.08850861 8.95508671 9.07607651 8.58288288\n",
      " 8.73930454 8.7798214  8.74756622 8.69838333 8.8978281  8.35943604\n",
      " 8.19536591 8.8943491  8.68221951 8.62188816 8.85436726 8.78389549\n",
      " 8.7861557  8.62300587 8.76095772 8.75914478 8.29857445 8.34888744\n",
      " 8.57181835 8.68131065 8.41007996 7.43552685 8.26117325 7.87560654\n",
      " 8.41255856 8.07231331 8.32108879 8.23431301 8.17359734 8.36986446\n",
      " 7.87021065 8.18557358 7.34275436 8.01319313 8.37339497 8.1052103\n",
      " 7.68050098 6.66961956 7.68115711 7.54744625 8.28046513 7.69468403\n",
      " 8.21521759 7.62793159 8.30974865 6.87760258 7.72489738 7.91044903\n",
      " 6.73615217 7.27422523 6.39491034 6.70600891 6.8810606  7.20466805\n",
      " 6.54482079 7.3039856  6.16232967 6.68091965 5.92622948 6.02298737\n",
      " 6.22441578 6.84326839 4.63341522 5.64662933 6.57662153 7.12491798\n",
      " 5.46937466 5.55704975 5.67273426 7.66257143 7.25223637 6.43416882\n",
      " 7.19432688 4.11888313 6.21681547 5.42373943 6.87675667 5.78157997\n",
      " 5.31703854 5.68233442 6.34029961 4.94732285 4.85786295 6.13388109\n",
      " 6.22894812 5.68470192 5.22797775 4.79881382 6.86973953 5.51757383\n",
      " 6.23672533 5.4433136  5.27960157 4.35953712 5.41004133 6.93800926\n",
      " 4.96940136 4.41859531 6.95234585 4.89229393 5.09433746 4.87100172\n",
      " 5.29619122 5.90222025 4.86606884 3.73220372 3.34489655 4.13405514\n",
      " 5.31411076 2.80733657 4.36815166 4.26059914 4.44594193 4.72017241\n",
      " 5.3485589  5.20898533 4.91594458 5.65556717 2.97394133 3.84858489\n",
      " 4.11681032 4.41695023 3.55759788 4.20884657 5.06027126 4.23698854\n",
      " 5.12837076 4.89617062 3.74475288 4.03346109 4.23211861 5.50369787\n",
      " 4.62269735 2.04370761 2.56902003 3.02538753 2.90022659 2.72055912\n",
      " 3.02582145 1.96228504 3.70441771 3.50419021 3.63052106 4.6948452\n",
      " 5.07107592 5.25946808 0.92914683 1.60249782 2.07738495 2.85561967\n",
      " 3.95435786 3.63286138 5.90174246 4.0294075  5.29733562 3.38486075\n",
      " 4.89804029 6.42053652 7.49550104 6.04940176 5.00452137 5.01778221\n",
      " 6.40042925 5.99171162 5.56107807 4.68169785 6.62341309 4.75420046\n",
      " 5.84123039 4.65349388 5.62136459 5.09544802 4.85011196 6.05519676\n",
      " 6.05654335 3.10667396 4.74926043 4.98598385 4.35693073 3.5949924\n",
      " 3.04911351 4.95060205 3.6830864  3.59992862 4.81648064 5.59532642\n",
      " 4.99107647 4.33330059 4.90469742 3.48505807 4.99194574 3.33221531\n",
      " 4.45564079 4.42009974 4.09668303 3.39945412 4.82903862 2.82927966\n",
      " 4.39618492 4.51832771 2.78688979 5.36248016 3.58171344 4.41465378\n",
      " 4.32273865 5.13200998 3.65880108 3.86112618 3.76443529 3.61966705\n",
      " 2.45520186 2.80038214 2.50690985 4.56678152 3.00729728 2.49538755\n",
      " 3.18538356 2.21256256 3.17259645 3.47967672 2.92112184 5.20402718\n",
      " 2.75557566 3.20017314 3.67752385 4.68831539 2.89152217 2.15876746\n",
      " 3.75512862 3.54017353 2.64505935 2.97116089 3.09212017 3.02081895\n",
      " 2.53704    2.27626348 3.90149665 3.03751302 2.72393441 2.84435749\n",
      " 2.45777488 3.33109117 3.03183746 2.8805306  3.74241042 2.46860051\n",
      " 2.87425017 3.76859832 2.63981438 2.66484571 2.76614451 2.0767529\n",
      " 1.44008219 1.63409567 1.75354922 2.76974177 2.06398845 2.52094889\n",
      " 2.6834445  2.78710103 0.51399159 0.82771176 1.99342728 3.64873338\n",
      " 6.5541029  8.17741871 8.97971916]\n"
     ]
    }
   ],
   "source": [
    "def plot_predictions(test,predicted):\n",
    "    plt.plot(test, color='red',label='Real time')\n",
    "    plt.plot(predicted, color='blue',label='Predicted time')\n",
    "    plt.legend()\n",
    "    plt.show()\n",
    "\n",
    "valid_data = float_data[:second_earthquake]\n",
    "x_valid = valid_data[:,0]\n",
    "y_valid = valid_data[:,1]\n",
    "\n",
    "valid_len = int(np.floor(second_earthquake/150000))\n",
    "print(valid_len)\n",
    "real_y = np.zeros(valid_len, dtype=float)\n",
    "pred = np.zeros(valid_len, dtype=float)\n",
    "for i in range(1,valid_len):\n",
    "    test = x_valid[(i-1)*150000:i*150000]\n",
    "    real_y[i] = y_valid[i*150000]\n",
    "    pred[i] = model.predict(np.expand_dims(create_X(test), 0))\n",
    "print(x_valid[:10])\n",
    "print(y_valid[:10])\n",
    "print(real_y[:10])\n",
    "print(pred)"
   ]
  },
  {
   "cell_type": "code",
   "execution_count": 17,
   "metadata": {},
   "outputs": [
    {
     "data": {
      "image/png": "[encoded data removed]",
      "text/plain": [
       "<Figure size 432x288 with 1 Axes>"
      ]
     },
     "metadata": {},
     "output_type": "display_data"
    }
   ],
   "source": [
    "# Visualizing the results\n",
    "plot_predictions(real_y,pred)"
   ]
  },
  {
   "cell_type": "code",
   "execution_count": 18,
   "metadata": {},
   "outputs": [
    {
     "name": "stdout",
     "output_type": "stream",
     "text": [
      "Valid MAE: 1.8004\n"
     ]
    }
   ],
   "source": [
    "from sklearn.metrics import mean_absolute_error\n",
    "print(f'Valid MAE: {mean_absolute_error(real_y,pred):.4f}')"
   ]
  },
  {
   "cell_type": "code",
   "execution_count": 19,
   "metadata": {},
   "outputs": [
    {
     "name": "stdout",
     "output_type": "stream",
     "text": [
      "4194\n"
     ]
    },
    {
     "data": {
      "image/png": "[encoded data removed]",
      "text/plain": [
       "<Figure size 432x288 with 1 Axes>"
      ]
     },
     "metadata": {},
     "output_type": "display_data"
    },
    {
     "name": "stdout",
     "output_type": "stream",
     "text": [
      "All MAE: 2.0797\n"
     ]
    }
   ],
   "source": [
    "x_all = float_data[:,0]\n",
    "y_all = float_data[:,1]\n",
    "\n",
    "all_len = int(np.floor(len(float_data)/150000))\n",
    "print(all_len)\n",
    "real_all_y = np.zeros(all_len, dtype=float)\n",
    "pred_all = np.zeros(all_len, dtype=float)\n",
    "for i in range(1,all_len):\n",
    "    test = x_all[(i-1)*150000:i*150000]\n",
    "    real_all_y[i] = y_all[i*150000]\n",
    "    pred_all[i] = model.predict(np.expand_dims(create_X(test), 0))\n",
    "\n",
    "# Visualizing the results of all data\n",
    "plot_predictions(real_all_y,pred_all)\n",
    "print(f'All MAE: {mean_absolute_error(real_all_y,pred_all):.4f}')"
   ]
  },
  {
   "cell_type": "code",
   "execution_count": 20,
   "metadata": {},
   "outputs": [
    {
     "name": "stderr",
     "output_type": "stream",
     "text": [
      "100%|██████████| 2624/2624 [01:52<00:00, 23.36it/s]\n"
     ]
    }
   ],
   "source": [
    "# Load submission file\n",
    "submission = pd.read_csv('../input/sample_submission.csv', index_col='seg_id', dtype={\"time_to_failure\": np.float32})\n",
    "\n",
    "# Load each test data, create the feature matrix, get numeric prediction\n",
    "for i, seg_id in enumerate(tqdm(submission.index)):\n",
    "  #  print(i)\n",
    "    seg = pd.read_csv('../input/test/' + seg_id + '.csv')\n",
    "    x = seg['acoustic_data'].values\n",
    "    submission.time_to_failure[i] = model.predict(np.expand_dims(create_X(x), 0))\n",
    "\n",
    "submission.head()\n",
    "\n",
    "# Save\n",
    "submission.to_csv('submission.csv')"
   ]
  }
 ],
 "metadata": {
  "kernelspec": {
   "display_name": "Python 3",
   "language": "python",
   "name": "python3"
  },
  "language_info": {
   "codemirror_mode": {
    "name": "ipython",
    "version": 3
   },
   "file_extension": ".py",
   "mimetype": "text/x-python",
   "name": "python",
   "nbconvert_exporter": "python",
   "pygments_lexer": "ipython3",
   "version": "3.7.3"
  }
 },
 "nbformat": 4,
 "nbformat_minor": 1
}
